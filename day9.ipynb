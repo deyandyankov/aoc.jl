{
 "cells": [
  {
   "cell_type": "code",
   "execution_count": 181,
   "metadata": {},
   "outputs": [
    {
     "name": "stdout",
     "output_type": "stream",
     "text": [
      "15690279\n"
     ]
    }
   ],
   "source": [
    "input = parse.(Int, readlines(\"input/day9.txt\"));\n",
    "seqlen = 25\n",
    "for (idx, n) = enumerate(input[seqlen+1:end])\n",
    "    preamble = input[idx:idx+seqlen-1]\n",
    "    concat = [(i, j) for i in preamble, j in preamble if i != j]\n",
    "    s = sum.(concat)\n",
    "    n ∉ s && println(n) isa Nothing && break\n",
    "end"
   ]
  },
  {
   "cell_type": "code",
   "execution_count": 182,
   "metadata": {},
   "outputs": [
    {
     "data": {
      "text/plain": [
       "154"
      ]
     },
     "execution_count": 182,
     "metadata": {},
     "output_type": "execute_result"
    }
   ],
   "source": [
    "input[102]"
   ]
  },
  {
   "cell_type": "code",
   "execution_count": 184,
   "metadata": {},
   "outputs": [],
   "source": [
    "using ProgressMeter"
   ]
  },
  {
   "cell_type": "code",
   "execution_count": 185,
   "metadata": {},
   "outputs": [
    {
     "data": {
      "text/plain": [
       "25"
      ]
     },
     "execution_count": 185,
     "metadata": {},
     "output_type": "execute_result"
    }
   ],
   "source": [
    "seqlen"
   ]
  },
  {
   "cell_type": "code",
   "execution_count": 199,
   "metadata": {},
   "outputs": [
    {
     "name": "stderr",
     "output_type": "stream",
     "text": [
      "\u001b[32mProgress:  39%|████████████████                         |  ETA: 0:00:01\u001b[39m"
     ]
    },
    {
     "name": "stdout",
     "output_type": "stream",
     "text": [
      "(minimum(seq), maximum(seq)) = (769435, 1404797)\n",
      "(minimum(seq), maximum(seq)) = (769435, 1404797)\n",
      "(minimum(seq), maximum(seq)) = (769435, 1404797)\n",
      "(minimum(seq), maximum(seq)) = (769435, 1404797)\n",
      "(minimum(seq), maximum(seq)) = (769435, 1404797)\n",
      "(minimum(seq), maximum(seq)) = (769435, 1404797)\n",
      "(minimum(seq), maximum(seq)) = (769435, 1404797)\n",
      "(minimum(seq), maximum(seq)) = (769435, 1404797)\n",
      "(minimum(seq), maximum(seq)) = (769435, 1404797)\n"
     ]
    },
    {
     "name": "stderr",
     "output_type": "stream",
     "text": [
      "\u001b[32mProgress: 100%|█████████████████████████████████████████| Time: 0:00:01\u001b[39m\n"
     ]
    }
   ],
   "source": [
    "a = 15690279\n",
    "sums, indices = [], []\n",
    "@showprogress for (idx, n) = enumerate(input[seqlen+1:end])\n",
    "    preamble = input[idx:idx+seqlen-1]\n",
    "    concat = [(jidx, iidx) for (iidx, i) in enumerate(preamble), (jidx, j) in enumerate(preamble)]\n",
    "    for c in concat\n",
    "        iidx, jidx = c[1], c[2]\n",
    "        iidx == jidx && continue\n",
    "        seq = preamble[iidx:jidx]\n",
    "        seq_len = length(seq)\n",
    "        seq_sum = sum(seq)\n",
    "        if seq_sum == a\n",
    "            push!(sums, seq_sum)\n",
    "            @show minimum(seq), maximum(seq)\n",
    "        end\n",
    "    end\n",
    "end"
   ]
  },
  {
   "cell_type": "code",
   "execution_count": 200,
   "metadata": {},
   "outputs": [
    {
     "data": {
      "text/plain": [
       "2174232"
      ]
     },
     "execution_count": 200,
     "metadata": {},
     "output_type": "execute_result"
    }
   ],
   "source": [
    "769435 + 1404797"
   ]
  }
 ],
 "metadata": {
  "kernelspec": {
   "display_name": "Julia 1.5.3",
   "language": "julia",
   "name": "julia-1.5"
  },
  "language_info": {
   "file_extension": ".jl",
   "mimetype": "application/julia",
   "name": "julia",
   "version": "1.5.3"
  }
 },
 "nbformat": 4,
 "nbformat_minor": 4
}
