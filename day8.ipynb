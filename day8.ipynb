{
 "cells": [
  {
   "cell_type": "code",
   "execution_count": 63,
   "metadata": {},
   "outputs": [
    {
     "data": {
      "text/plain": [
       "1137"
      ]
     },
     "execution_count": 63,
     "metadata": {},
     "output_type": "execute_result"
    }
   ],
   "source": [
    "input_filename = \"input/day8.txt\"\n",
    "\n",
    "function readinput(fn)\n",
    "    lines = readlines(fn)\n",
    "    instruction = first.(split.(lines))\n",
    "    arg = parse.(Int, last.(split.(lines)))\n",
    "    instruction, arg\n",
    "end\n",
    "\n",
    "function process_instruction(idx, instr, argument)\n",
    "    instr == \"nop\" && return 1, 0\n",
    "    instr == \"acc\" && return 1, argument\n",
    "    instr == \"jmp\" && return argument, 0\n",
    "end\n",
    "\n",
    "function solve()\n",
    "    instruction, arg = readinput(input_filename)\n",
    "    g = 0\n",
    "    idx = 1\n",
    "    visited = []\n",
    "    while true\n",
    "        idx in visited && break\n",
    "        push!(visited, idx)\n",
    "        instr = instruction[idx]\n",
    "        argument = arg[idx]\n",
    "        idx_jmp, acc = process_instruction(idx, instr, argument)\n",
    "        idx += idx_jmp\n",
    "        g += acc\n",
    "    end\n",
    "    g\n",
    "end\n",
    "solve()"
   ]
  },
  {
   "cell_type": "code",
   "execution_count": 81,
   "metadata": {},
   "outputs": [
    {
     "data": {
      "text/plain": [
       "1125"
      ]
     },
     "execution_count": 81,
     "metadata": {},
     "output_type": "execute_result"
    }
   ],
   "source": [
    "input_filename = \"input/day8.txt\"\n",
    "\n",
    "function readinput(fn)\n",
    "    lines = readlines(fn)\n",
    "    instruction = first.(split.(lines))\n",
    "    arg = parse.(Int, last.(split.(lines)))\n",
    "    instruction, arg\n",
    "end\n",
    "\n",
    "function process_instruction(idx, instr, argument)\n",
    "    instr == \"nop\" && return 1, 0\n",
    "    instr == \"acc\" && return 1, argument\n",
    "    instr == \"jmp\" && return argument, 0\n",
    "end\n",
    "\n",
    "function solve()\n",
    "    break_outer_loop = false\n",
    "    g = 0\n",
    "    change_idx = 1\n",
    "\n",
    "    while !break_outer_loop\n",
    "        instruction, arg = readinput(input_filename)\n",
    "        num_instructions = length(instruction)\n",
    "        argv = instruction[change_idx]\n",
    "        new_instr = \"\"\n",
    "        if argv == \"jmp\"\n",
    "            new_instr = \"nop\"\n",
    "        elseif argv == \"nop\"\n",
    "            new_instr = \"jmp\"\n",
    "        else\n",
    "            change_idx += 1\n",
    "            continue\n",
    "        end\n",
    "        instruction[change_idx] = new_instr\n",
    "        g = 0\n",
    "        idx = 1\n",
    "        visited = []\n",
    "        while true\n",
    "            if idx > num_instructions\n",
    "                break_outer_loop = true\n",
    "                break\n",
    "            end\n",
    "            idx in visited && break\n",
    "            push!(visited, idx)\n",
    "            instr = instruction[idx]\n",
    "            argument = arg[idx]\n",
    "            idx_jmp, acc = process_instruction(idx, instr, argument)\n",
    "            idx += idx_jmp\n",
    "            g += acc\n",
    "        end\n",
    "        change_idx += 1\n",
    "    end\n",
    "    g\n",
    "end\n",
    "solve()"
   ]
  },
  {
   "cell_type": "code",
   "execution_count": null,
   "metadata": {},
   "outputs": [],
   "source": []
  }
 ],
 "metadata": {
  "kernelspec": {
   "display_name": "Julia 1.5.3",
   "language": "julia",
   "name": "julia-1.5"
  },
  "language_info": {
   "file_extension": ".jl",
   "mimetype": "application/julia",
   "name": "julia",
   "version": "1.5.3"
  }
 },
 "nbformat": 4,
 "nbformat_minor": 4
}
