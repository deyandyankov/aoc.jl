{
 "cells": [
  {
   "cell_type": "code",
   "execution_count": 26,
   "metadata": {},
   "outputs": [
    {
     "data": {
      "text/plain": [
       "find_nearest_after (generic function with 1 method)"
      ]
     },
     "execution_count": 26,
     "metadata": {},
     "output_type": "execute_result"
    }
   ],
   "source": [
    "input = readlines(\"input/day13.txt\")\n",
    "can_depart_at = parse(Int, input[1])\n",
    "bus_cycles = sort([parse(Int, i) for i in split.(input[2], \",\") if i != \"x\"])\n",
    "function find_nearest_after(cycle, stop)\n",
    "    cycle >= 1 || error(\"cycle must be a positive integer\")\n",
    "    m = 1\n",
    "    \n",
    "    while cycle * m < stop\n",
    "        m += 1\n",
    "    end\n",
    "    \n",
    "    cycle*m - stop\n",
    "end"
   ]
  },
  {
   "cell_type": "code",
   "execution_count": 27,
   "metadata": {},
   "outputs": [
    {
     "data": {
      "text/plain": [
       "9-element Array{Int64,1}:\n",
       "   8\n",
       "  14\n",
       "  14\n",
       "  15\n",
       "  10\n",
       "  11\n",
       "  36\n",
       " 359\n",
       "   7"
      ]
     },
     "execution_count": 27,
     "metadata": {},
     "output_type": "execute_result"
    }
   ],
   "source": [
    "minutes_to_wait = find_nearest_after.(bus_cycles, can_depart_at)"
   ]
  },
  {
   "cell_type": "code",
   "execution_count": 28,
   "metadata": {},
   "outputs": [
    {
     "data": {
      "text/plain": [
       "9"
      ]
     },
     "execution_count": 28,
     "metadata": {},
     "output_type": "execute_result"
    }
   ],
   "source": [
    "minimum_minutes_to_wait_with_bus = argmin(minutes_to_wait)"
   ]
  },
  {
   "cell_type": "code",
   "execution_count": 29,
   "metadata": {},
   "outputs": [
    {
     "data": {
      "text/plain": [
       "5257"
      ]
     },
     "execution_count": 29,
     "metadata": {},
     "output_type": "execute_result"
    }
   ],
   "source": [
    "bus_cycles[minimum_minutes_to_wait_with_bus] * minutes_to_wait[minimum_minutes_to_wait_with_bus]"
   ]
  },
  {
   "cell_type": "code",
   "execution_count": null,
   "metadata": {},
   "outputs": [],
   "source": []
  }
 ],
 "metadata": {
  "kernelspec": {
   "display_name": "Julia 1.5.3",
   "language": "julia",
   "name": "julia-1.5"
  },
  "language_info": {
   "file_extension": ".jl",
   "mimetype": "application/julia",
   "name": "julia",
   "version": "1.5.3"
  }
 },
 "nbformat": 4,
 "nbformat_minor": 4
}
