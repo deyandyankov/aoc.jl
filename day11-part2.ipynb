{
 "cells": [
  {
   "cell_type": "code",
   "execution_count": 1,
   "metadata": {},
   "outputs": [
    {
     "data": {
      "text/plain": [
       "GridDirection"
      ]
     },
     "execution_count": 1,
     "metadata": {},
     "output_type": "execute_result"
    }
   ],
   "source": [
    "using StatsBase\n",
    "struct GridDirection{x} end\n",
    "GridDirection(x) = GridDirection{x}()"
   ]
  },
  {
   "cell_type": "code",
   "execution_count": 79,
   "metadata": {},
   "outputs": [
    {
     "data": {
      "text/plain": [
       "occupied_seats (generic function with 1 method)"
      ]
     },
     "execution_count": 79,
     "metadata": {},
     "output_type": "execute_result"
    }
   ],
   "source": [
    "function loadgrid(filename)\n",
    "    input = readlines(filename)\n",
    "    collect.(input)\n",
    "end\n",
    "function loadgridfromstr(s)\n",
    "    input = split(s)\n",
    "    collect.(input)\n",
    "end\n",
    "\n",
    "cell_outside_boundary(i, j, m, n) = (i > m) || (j > n) || (i < 1) || (j < 1)\n",
    "cell_outside_boundary(cell, m, n) = cell_outside_boundary(cell[1], cell[2], m, n)\n",
    "\n",
    "getij(i, j, d::GridDirection{:topleft}) = [i-1, j-1]\n",
    "getij(i, j, d::GridDirection{:topcenter}) = [i-1, j]\n",
    "getij(i, j, d::GridDirection{:topright}) = [i-1, j+1]\n",
    "getij(i, j, d::GridDirection{:left}) = [i, j-1]\n",
    "getij(i, j, d::GridDirection{:right}) = [i, j+1]\n",
    "getij(i, j, d::GridDirection{:bottomleft}) = [i+1, j-1]\n",
    "getij(i, j, d::GridDirection{:bottomcenter}) = [i+1, j]\n",
    "getij(i, j, d::GridDirection{:bottomright}) = [i+1, j+1]\n",
    "getnextcell(cell, d::GridDirection) = getij(cell[1], cell[2], d)\n",
    "\n",
    "function first_visible(grid, i, j)\n",
    "    m, n = length(grid), length(grid[1])\n",
    "    \n",
    "    directions = GridDirection.([\n",
    "        :topleft, :topcenter, :topright, :left,\n",
    "        :right, :bottomleft, :bottomcenter, :bottomright\n",
    "    ])\n",
    "    original_cell = [i, j]\n",
    "    vis = Dict{GridDirection, Char}()\n",
    "    for d in directions\n",
    "        cell = original_cell\n",
    "        while true\n",
    "            new_cell = getnextcell(cell, d)\n",
    "            cell_outside_boundary(new_cell, m, n) && break\n",
    "            new_cell_value = grid[new_cell[1]][new_cell[2]]\n",
    "            if new_cell_value in ['L', '#']\n",
    "                vis[d] = new_cell_value\n",
    "                break\n",
    "            end\n",
    "            cell = new_cell\n",
    "        end\n",
    "    end\n",
    "    vis\n",
    "end\n",
    "        \n",
    "function process_seat(seat, cmap)\n",
    "    seat == 'L' && get(cmap, '#', 0) == 0 && return '#'\n",
    "    seat == '#' && get(cmap, '#', 0) >= 5 && return 'L'\n",
    "    return seat\n",
    "end\n",
    "\n",
    "function process(grid, i, j)\n",
    "    cmap = first_visible(grid, i, j) |> values |> countmap # [grid[t[1]][t[2]] for t in neighbors(grid, i, j)] |> countmap\n",
    "    process_seat(grid[i][j], cmap)\n",
    "end\n",
    "\n",
    "function process(grid)\n",
    "    new_grid = deepcopy(grid)\n",
    "    m, n = length(grid), length(grid[1])\n",
    "    for i = 1:m, j = 1:n\n",
    "        new_grid[i][j] = process(grid, i, j)\n",
    "    end\n",
    "    grid = new_grid\n",
    "    grid\n",
    "end\n",
    "function empty_seats(grid)\n",
    "    sum(grid[i][j] == 'L' for i in 1:length(grid), j in 1:length(grid[1]))\n",
    "end\n",
    "function occupied_seats(grid)\n",
    "    sum(grid[i][j] == '#' for i in 1:length(grid), j in 1:length(grid[1]))\n",
    "end"
   ]
  },
  {
   "cell_type": "code",
   "execution_count": 91,
   "metadata": {},
   "outputs": [
    {
     "data": {
      "text/plain": [
       "\"L.LL.LL.LL\\nLLLLLLL.LL\\nL.L.L..L..\\nLLLL.LL.LL\\nL.LL.LL.LL\\nL.LLLLL.LL\\n..L.L.....\\nLLLLLLLLLL\\nL.LLLLLL.L\\nL.LLLLL.LL\\n\""
      ]
     },
     "execution_count": 91,
     "metadata": {},
     "output_type": "execute_result"
    }
   ],
   "source": [
    "testdata1 = \"\"\"\n",
    "L.LL.LL.LL\n",
    "LLLLLLL.LL\n",
    "L.L.L..L..\n",
    "LLLL.LL.LL\n",
    "L.LL.LL.LL\n",
    "L.LLLLL.LL\n",
    "..L.L.....\n",
    "LLLLLLLLLL\n",
    "L.LLLLLL.L\n",
    "L.LLLLL.LL\n",
    "\"\"\""
   ]
  },
  {
   "cell_type": "code",
   "execution_count": 92,
   "metadata": {},
   "outputs": [],
   "source": [
    "grid = loadgridfromstr(testdata1);"
   ]
  },
  {
   "cell_type": "code",
   "execution_count": 93,
   "metadata": {},
   "outputs": [
    {
     "data": {
      "text/plain": [
       "10-element Array{Array{Char,1},1}:\n",
       " ['L', '.', 'L', 'L', '.', 'L', 'L', '.', 'L', 'L']\n",
       " ['L', 'L', 'L', 'L', 'L', 'L', 'L', '.', 'L', 'L']\n",
       " ['L', '.', 'L', '.', 'L', '.', '.', 'L', '.', '.']\n",
       " ['L', 'L', 'L', 'L', '.', 'L', 'L', '.', 'L', 'L']\n",
       " ['L', '.', 'L', 'L', '.', 'L', 'L', '.', 'L', 'L']\n",
       " ['L', '.', 'L', 'L', 'L', 'L', 'L', '.', 'L', 'L']\n",
       " ['.', '.', 'L', '.', 'L', '.', '.', '.', '.', '.']\n",
       " ['L', 'L', 'L', 'L', 'L', 'L', 'L', 'L', 'L', 'L']\n",
       " ['L', '.', 'L', 'L', 'L', 'L', 'L', 'L', '.', 'L']\n",
       " ['L', '.', 'L', 'L', 'L', 'L', 'L', '.', 'L', 'L']"
      ]
     },
     "execution_count": 93,
     "metadata": {},
     "output_type": "execute_result"
    }
   ],
   "source": [
    "grid"
   ]
  },
  {
   "cell_type": "code",
   "execution_count": 97,
   "metadata": {},
   "outputs": [],
   "source": [
    "grid = loadgrid(\"input/day11.txt\");"
   ]
  },
  {
   "cell_type": "code",
   "execution_count": 98,
   "metadata": {},
   "outputs": [
    {
     "name": "stdout",
     "output_type": "stream",
     "text": [
      "i = 1\n",
      "i = 2\n",
      "i = 3\n",
      "i = 4\n",
      "i = 5\n",
      "i = 6\n",
      "i = 7\n",
      "i = 8\n",
      "i = 9\n",
      "i = 10\n",
      "i = 11\n",
      "i = 12\n",
      "i = 13\n",
      "i = 14\n",
      "i = 15\n",
      "i = 16\n",
      "i = 17\n",
      "i = 18\n",
      "i = 19\n",
      "i = 20\n",
      "i = 21\n",
      "i = 22\n",
      "i = 23\n",
      "i = 24\n",
      "i = 25\n",
      "i = 26\n",
      "i = 27\n",
      "i = 28\n",
      "i = 29\n",
      "i = 30\n",
      "i = 31\n",
      "i = 32\n",
      "i = 33\n",
      "i = 34\n",
      "i = 35\n",
      "i = 36\n",
      "i = 37\n",
      "i = 38\n",
      "i = 39\n",
      "i = 40\n",
      "i = 41\n",
      "i = 42\n",
      "i = 43\n",
      "i = 44\n",
      "i = 45\n",
      "i = 46\n",
      "i = 47\n",
      "i = 48\n",
      "i = 49\n",
      "i = 50\n",
      "i = 51\n",
      "i = 52\n",
      "i = 53\n",
      "i = 54\n",
      "i = 55\n",
      "i = 56\n",
      "i = 57\n",
      "i = 58\n",
      "i = 59\n",
      "i = 60\n",
      "i = 61\n",
      "i = 62\n",
      "i = 63\n",
      "i = 64\n",
      "i = 65\n",
      "i = 66\n",
      "i = 67\n",
      "i = 68\n",
      "i = 69\n",
      "i = 70\n",
      "i = 71\n",
      "i = 72\n",
      "i = 73\n",
      "i = 74\n",
      "i = 75\n",
      "i = 76\n",
      "i = 77\n",
      "i = 78\n",
      "i = 79\n",
      "i = 80\n",
      "i = 81\n",
      "i = 82\n",
      "i = 83\n",
      "i = 84\n",
      "i = 85\n",
      "i = 86\n",
      "i = 87\n",
      "i = 88\n",
      "i = 89\n"
     ]
    }
   ],
   "source": [
    "i = 1\n",
    "while true\n",
    "    @show i\n",
    "    old_grid = deepcopy(grid)\n",
    "    grid = process(grid)\n",
    "    grid == old_grid && break\n",
    "    i += 1\n",
    "end"
   ]
  },
  {
   "cell_type": "code",
   "execution_count": 99,
   "metadata": {},
   "outputs": [
    {
     "data": {
      "text/plain": [
       "97-element Array{Array{Char,1},1}:\n",
       " ['#', 'L', '#', 'L', '#', 'L', '#', 'L', '#', 'L'  …  'L', '#', 'L', '#', 'L', '#', 'L', '#', 'L', '#']\n",
       " ['L', 'L', 'L', 'L', 'L', 'L', '.', 'L', 'L', 'L'  …  'L', 'L', 'L', 'L', 'L', 'L', 'L', '.', 'L', 'L']\n",
       " ['#', 'L', '#', 'L', '#', 'L', '.', '#', 'L', '#'  …  '#', 'L', '#', 'L', '#', 'L', '#', 'L', 'L', '#']\n",
       " ['L', '.', 'L', 'L', 'L', 'L', '.', 'L', 'L', 'L'  …  'L', 'L', 'L', 'L', 'L', 'L', 'L', '#', 'L', 'L']\n",
       " ['#', 'L', 'L', '.', '#', 'L', '.', '#', 'L', '#'  …  'L', '#', 'L', '#', 'L', '#', 'L', '#', 'L', '#']\n",
       " ['L', '.', '.', '.', '.', '.', 'L', '#', 'L', 'L'  …  '.', 'L', 'L', 'L', 'L', 'L', '.', '.', '.', '.']\n",
       " ['#', 'L', 'L', 'L', 'L', '#', '.', 'L', 'L', 'L'  …  '#', 'L', '#', 'L', '#', 'L', '#', 'L', '#', 'L']\n",
       " ['L', 'L', '#', 'L', '#', 'L', '.', 'L', '#', 'L'  …  'L', 'L', 'L', 'L', 'L', 'L', 'L', 'L', 'L', '#']\n",
       " ['#', 'L', 'L', 'L', 'L', 'L', '.', 'L', 'L', 'L'  …  '#', 'L', '#', 'L', '#', 'L', '.', '#', 'L', 'L']\n",
       " ['L', 'L', '#', 'L', '#', 'L', '.', '#', 'L', 'L'  …  'L', 'L', 'L', 'L', 'L', '#', 'L', '#', 'L', '#']\n",
       " ['.', 'L', '.', 'L', '.', '.', '.', 'L', '.', '#'  …  'L', '#', '.', '.', '.', '.', '.', '.', '.', '.']\n",
       " ['#', 'L', 'L', 'L', 'L', 'L', '.', '#', 'L', 'L'  …  'L', 'L', '#', 'L', '#', 'L', '#', 'L', '.', 'L']\n",
       " ['L', 'L', '#', 'L', '#', 'L', '.', 'L', 'L', '#'  …  'L', 'L', 'L', '.', 'L', 'L', 'L', '#', 'L', '#']\n",
       " ⋮\n",
       " ['#', 'L', 'L', 'L', '.', 'L', '.', 'L', 'L', 'L'  …  'L', 'L', 'L', 'L', 'L', 'L', 'L', 'L', 'L', '#']\n",
       " ['L', 'L', '#', 'L', 'L', '#', '.', 'L', '#', 'L'  …  '#', 'L', '#', 'L', '#', 'L', '#', '.', 'L', 'L']\n",
       " ['#', '.', 'L', '.', 'L', '.', 'L', '.', 'L', 'L'  …  'L', '.', '.', 'L', '.', '.', 'L', '.', '.', '.']\n",
       " ['L', 'L', '#', 'L', '#', 'L', '.', '#', 'L', 'L'  …  'L', '#', 'L', '#', 'L', 'L', 'L', '#', 'L', '#']\n",
       " ['#', 'L', 'L', 'L', 'L', 'L', '.', 'L', 'L', '.'  …  'L', 'L', 'L', 'L', 'L', '#', 'L', 'L', 'L', 'L']\n",
       " ['.', 'L', '#', 'L', '#', 'L', '.', '#', 'L', '#'  …  'L', '#', 'L', '#', 'L', 'L', '.', '#', 'L', '#']\n",
       " ['L', 'L', 'L', 'L', 'L', 'L', 'L', 'L', 'L', 'L'  …  'L', 'L', 'L', 'L', 'L', '#', 'L', 'L', 'L', 'L']\n",
       " ['#', 'L', '#', 'L', '#', 'L', '#', 'L', '#', 'L'  …  '#', 'L', '#', 'L', '#', 'L', 'L', '#', 'L', '#']\n",
       " ['L', 'L', 'L', 'L', 'L', 'L', 'L', 'L', 'L', 'L'  …  'L', 'L', 'L', 'L', 'L', '.', 'L', 'L', 'L', 'L']\n",
       " ['#', 'L', '#', 'L', '#', 'L', '.', '#', 'L', '#'  …  'L', '#', 'L', '#', 'L', '#', 'L', '#', 'L', '#']\n",
       " ['L', 'L', 'L', 'L', 'L', 'L', '.', 'L', 'L', 'L'  …  'L', 'L', 'L', 'L', 'L', 'L', 'L', 'L', 'L', 'L']\n",
       " ['#', 'L', '#', 'L', '#', 'L', '.', '#', 'L', '#'  …  'L', '#', 'L', '#', 'L', '#', 'L', '#', 'L', '#']"
      ]
     },
     "execution_count": 99,
     "metadata": {},
     "output_type": "execute_result"
    }
   ],
   "source": [
    "grid"
   ]
  },
  {
   "cell_type": "code",
   "execution_count": 101,
   "metadata": {},
   "outputs": [
    {
     "data": {
      "text/plain": [
       "2190"
      ]
     },
     "execution_count": 101,
     "metadata": {},
     "output_type": "execute_result"
    }
   ],
   "source": [
    "occupied_seats(grid)"
   ]
  },
  {
   "cell_type": "code",
   "execution_count": null,
   "metadata": {},
   "outputs": [],
   "source": []
  }
 ],
 "metadata": {
  "kernelspec": {
   "display_name": "Julia 1.5.3",
   "language": "julia",
   "name": "julia-1.5"
  },
  "language_info": {
   "file_extension": ".jl",
   "mimetype": "application/julia",
   "name": "julia",
   "version": "1.5.3"
  }
 },
 "nbformat": 4,
 "nbformat_minor": 4
}
