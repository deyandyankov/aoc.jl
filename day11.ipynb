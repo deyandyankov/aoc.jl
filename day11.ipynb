{
 "cells": [
  {
   "cell_type": "code",
   "execution_count": 127,
   "metadata": {},
   "outputs": [
    {
     "data": {
      "text/plain": [
       "occupied_seats (generic function with 1 method)"
      ]
     },
     "execution_count": 127,
     "metadata": {},
     "output_type": "execute_result"
    }
   ],
   "source": [
    "using StatsBase\n",
    "function loadgrid(filename)\n",
    "    input = readlines(filename)\n",
    "    collect.(input)\n",
    "end\n",
    "function neighbors(grid, i, j)\n",
    "    m, n = length(grid), length(grid[1])\n",
    "    neighbors_ij = [\n",
    "        [i-1, j-1], # top left\n",
    "        [i-1, j], # top center\n",
    "        [i-1, j+1], # top right\n",
    "        [i, j-1], # left\n",
    "        [i, j+1], # right\n",
    "        [i+1, j-1], # bottom left\n",
    "        [i+1, j], # bottom center\n",
    "        [i+1, j+1] # bottom right\n",
    "    ]\n",
    "    valid_neighbors = map(neighbors_ij) do x\n",
    "        if x[1] >= 1 && x[1] <= m && x[2] >= 1 && x[2] <= n\n",
    "            x\n",
    "        end\n",
    "    end\n",
    "    [t for t in valid_neighbors if !(t isa Nothing)]\n",
    "end\n",
    "function process_seat(seat, cmap)\n",
    "    seat == 'L' && get(cmap, '#', 0) == 0 && return '#'\n",
    "    seat == '#' && get(cmap, '#', 0) >= 4 && return 'L'\n",
    "    return seat\n",
    "end\n",
    "\n",
    "function process(grid, i, j)\n",
    "    cmap = [grid[t[1]][t[2]] for t in neighbors(grid, i, j)] |> countmap\n",
    "    process_seat(grid[i][j], cmap)\n",
    "end\n",
    "\n",
    "function process(grid)\n",
    "    new_grid = deepcopy(grid)\n",
    "    m, n = length(grid), length(grid[1])\n",
    "    for i = 1:m, j = 1:n\n",
    "        new_grid[i][j] = process(grid, i, j)\n",
    "    end\n",
    "    grid = new_grid\n",
    "    grid\n",
    "end\n",
    "function empty_seats(grid)\n",
    "    sum(grid[i][j] == 'L' for i in 1:length(grid), j in 1:length(grid[1]))\n",
    "end\n",
    "function occupied_seats(grid)\n",
    "    sum(grid[i][j] == '#' for i in 1:length(grid), j in 1:length(grid[1]))\n",
    "end"
   ]
  },
  {
   "cell_type": "code",
   "execution_count": 128,
   "metadata": {},
   "outputs": [],
   "source": [
    "grid = loadgrid(\"input/day11.txt\");"
   ]
  },
  {
   "cell_type": "code",
   "execution_count": 129,
   "metadata": {},
   "outputs": [],
   "source": [
    "while true\n",
    "    old_grid = deepcopy(grid)\n",
    "    grid = process(grid)\n",
    "    grid == old_grid && break\n",
    "end"
   ]
  },
  {
   "cell_type": "code",
   "execution_count": 130,
   "metadata": {},
   "outputs": [
    {
     "data": {
      "text/plain": [
       "2441"
      ]
     },
     "execution_count": 130,
     "metadata": {},
     "output_type": "execute_result"
    }
   ],
   "source": [
    "occupied_seats(grid)"
   ]
  },
  {
   "cell_type": "code",
   "execution_count": null,
   "metadata": {},
   "outputs": [],
   "source": []
  }
 ],
 "metadata": {
  "kernelspec": {
   "display_name": "Julia 1.5.3",
   "language": "julia",
   "name": "julia-1.5"
  },
  "language_info": {
   "file_extension": ".jl",
   "mimetype": "application/julia",
   "name": "julia",
   "version": "1.5.3"
  }
 },
 "nbformat": 4,
 "nbformat_minor": 4
}
