{
 "cells": [
  {
   "cell_type": "code",
   "execution_count": 57,
   "metadata": {},
   "outputs": [
    {
     "data": {
      "text/plain": [
       "update! (generic function with 8 methods)"
      ]
     },
     "execution_count": 57,
     "metadata": {},
     "output_type": "execute_result"
    }
   ],
   "source": [
    "struct ShipDirection{x} end;\n",
    "ShipDirection(x) = ShipDirection{x}()\n",
    "struct WaypointDirection{x} end;\n",
    "WaypointDirection(x) = WaypointDirection{x}()\n",
    "\n",
    "mutable struct ShipState\n",
    "    facing::ShipDirection\n",
    "    x::Int\n",
    "    y::Int\n",
    "end\n",
    "\n",
    "mutable struct WaypointState\n",
    "    x::Int\n",
    "    y::Int\n",
    "end\n",
    "\n",
    "function get_instructions(filename)\n",
    "    input = readlines(filename)\n",
    "    instructions = map(input) do x\n",
    "        instr = r\"^([A-Z])([0-9]*)$\"\n",
    "        m = match(instr, x)\n",
    "        (ShipDirection(Symbol(m[1])), parse(Int, m[2]))\n",
    "    end\n",
    "    instructions\n",
    "end\n",
    "\n",
    "# rotate right\n",
    "function new_direction(facing::ShipDirection, d::ShipDirection{:R}, val)\n",
    "    val % 90 != 0 && error(\"$(val) must be a multiple of 90\")\n",
    "    times = Int(val // 90)\n",
    "    times > 4 && error(\"times direction cannot exceed 4\")\n",
    "    directions = [\n",
    "        ShipDirection(:E),\n",
    "        ShipDirection(:S),\n",
    "        ShipDirection(:W),\n",
    "        ShipDirection(:N),\n",
    "        ShipDirection(:E),\n",
    "        ShipDirection(:S),\n",
    "        ShipDirection(:W),\n",
    "        ShipDirection(:N)\n",
    "    ]\n",
    "    directions[findfirst(x -> x == facing, directions) + times]\n",
    "end\n",
    "\n",
    "# rotate left\n",
    "function new_direction(facing::ShipDirection, d::ShipDirection{:L}, val)\n",
    "    val % 90 != 0 && error(\"$(val) must be a multiple of 90\")\n",
    "    times = Int(val // 90)\n",
    "    times > 4 && error(\"times direction cannot exceed 4\")\n",
    "    directions = [\n",
    "        ShipDirection(:E),\n",
    "        ShipDirection(:N),\n",
    "        ShipDirection(:W),\n",
    "        ShipDirection(:S),\n",
    "        ShipDirection(:E),\n",
    "        ShipDirection(:N),\n",
    "        ShipDirection(:W),\n",
    "        ShipDirection(:S)\n",
    "    ]\n",
    "    directions[findfirst(x -> x == facing, directions) + times]\n",
    "end\n",
    "\n",
    "new_position(facing::ShipDirection, d::ShipDirection{:E}, val) = [val, 0]\n",
    "new_position(facing::ShipDirection, d::ShipDirection{:W}, val) = [-val, 0]\n",
    "new_position(facing::ShipDirection, d::ShipDirection{:N}, val) = [0, val]\n",
    "new_position(facing::ShipDirection, d::ShipDirection{:S}, val) = [0, -val]\n",
    "\n",
    "new_position(facing::ShipDirection{:E}, d::ShipDirection{:F}, val) = [val, 0]\n",
    "new_position(facing::ShipDirection{:W}, d::ShipDirection{:F}, val) = [-val, 0]\n",
    "new_position(facing::ShipDirection{:N}, d::ShipDirection{:F}, val) = [0, val]\n",
    "new_position(facing::ShipDirection{:S}, d::ShipDirection{:F}, val) = [0, -val]\n",
    "\n",
    "function update!(s::ShipState, w::WaypointState, d::ShipDirection, val)\n",
    "#     np = new_position(s.facing, d, val)\n",
    "#     @show s, d, val\n",
    "#     s.x += np[1]\n",
    "#     s.y += np[2]\n",
    "#     @show s, d, val\n",
    "end\n",
    "\n",
    "function update!(s::ShipState, w::WaypointState, d::ShipDirection{:F}, val)\n",
    "    s.x += w.x * val\n",
    "    s.y += w.y * val\n",
    "end\n",
    "\n",
    "function update!(s::ShipState, w::WaypointState, d::ShipDirection{:N}, val)\n",
    "    w.y += val\n",
    "end\n",
    "\n",
    "function update!(s::ShipState, w::WaypointState, d::ShipDirection{:S}, val)\n",
    "    w.y -= val\n",
    "end\n",
    "\n",
    "function update!(s::ShipState, w::WaypointState, d::ShipDirection{:E}, val)\n",
    "    w.x += val\n",
    "end\n",
    "\n",
    "function update!(s::ShipState, w::WaypointState, d::ShipDirection{:W}, val)\n",
    "    w.x -= val\n",
    "end\n",
    "\n",
    "\n",
    "function update!(s::ShipState, w::WaypointState, d::ShipDirection{:R}, val)\n",
    "#     nd = new_direction(s.facing, d, val)\n",
    "#     @show s, d, val, nd\n",
    "#     s.facing = nd\n",
    "end\n",
    "function update!(s::ShipState, w::WaypointState, d::ShipDirection{:L}, val)\n",
    "#     nd = new_direction(s.facing, d, val)\n",
    "#     @show s, d, val, nd\n",
    "#     s.facing = nd\n",
    "end"
   ]
  },
  {
   "cell_type": "code",
   "execution_count": 78,
   "metadata": {},
   "outputs": [
    {
     "data": {
      "text/plain": [
       "2-element Array{Float64,1}:\n",
       " -23.999999999999993\n",
       " 164.0"
      ]
     },
     "execution_count": 78,
     "metadata": {},
     "output_type": "execute_result"
    }
   ],
   "source": [
    "function rotate_point(cx, cy, angle, px, py)\n",
    "    s = sin(deg2rad(angle))\n",
    "    c = cos(deg2rad(angle))\n",
    "    px -= cx\n",
    "    py -= cy\n",
    "    xnew = px * c - py * s\n",
    "    ynew = px * s + py * c\n",
    "    px = xnew + cx\n",
    "    py = ynew + cy\n",
    "    [px, py]\n",
    "end\n",
    "rotate_point(10, 4, 90, 170, 38)"
   ]
  },
  {
   "cell_type": "code",
   "execution_count": 86,
   "metadata": {},
   "outputs": [
    {
     "data": {
      "text/plain": [
       "2-element Array{Float64,1}:\n",
       " 244.4681321411494\n",
       " 128.00388329091868"
      ]
     },
     "execution_count": 86,
     "metadata": {},
     "output_type": "execute_result"
    }
   ],
   "source": [
    "# angle = (angle ) * (Math.PI/180); // Convert to radians\n",
    "# var rotatedX = Math.cos(angle) * (point.x - center.x) - Math.sin(angle) * (point.y-center.y) + center.x;\n",
    "# var rotatedY = Math.sin(angle) * (point.x - center.x) + Math.cos(angle) * (point.y - center.y) + center.y;\n",
    "# return new createjs.Point(rotatedX,rotatedY);\n",
    "\n",
    "function rotate_point(px, py, cx, cy, θ)\n",
    "    θ = deg2rad(θ)\n",
    "    rX = cos(θ) * (px - cx) - sin(θ) * (py - cy) + cx\n",
    "    rY = sin(θ) * (px - cx) + cos(θ) * (py - cy) + cy\n",
    "    [rX, rY]\n",
    "end\n",
    "rotate_point(170, 38, 90, 170+10, 38+4)"
   ]
  },
  {
   "cell_type": "code",
   "execution_count": 93,
   "metadata": {},
   "outputs": [
    {
     "data": {
      "text/plain": [
       "2-element Array{Int64,1}:\n",
       " 1700\n",
       "  152"
      ]
     },
     "execution_count": 93,
     "metadata": {},
     "output_type": "execute_result"
    }
   ],
   "source": [
    "[170, 38] .* [10, 4]"
   ]
  },
  {
   "cell_type": "code",
   "execution_count": 94,
   "metadata": {},
   "outputs": [
    {
     "data": {
      "text/plain": [
       "2-element Array{Int64,1}:\n",
       " 1700\n",
       "  152"
      ]
     },
     "execution_count": 94,
     "metadata": {},
     "output_type": "execute_result"
    }
   ],
   "source": [
    "[10, 4] .* [170, 38]"
   ]
  },
  {
   "cell_type": "code",
   "execution_count": 80,
   "metadata": {},
   "outputs": [
    {
     "data": {
      "text/plain": [
       "2×2 Array{Int64,2}:\n",
       " 10  10\n",
       "  5   5"
      ]
     },
     "execution_count": 80,
     "metadata": {},
     "output_type": "execute_result"
    }
   ],
   "source": [
    "[10 10; 5 5]"
   ]
  },
  {
   "cell_type": "code",
   "execution_count": 73,
   "metadata": {},
   "outputs": [
    {
     "data": {
      "text/plain": [
       "2-element Array{Int64,1}:\n",
       " 146\n",
       " 202"
      ]
     },
     "execution_count": 73,
     "metadata": {},
     "output_type": "execute_result"
    }
   ],
   "source": [
    "[170, 38] .+ [-24, 164]"
   ]
  },
  {
   "cell_type": "code",
   "execution_count": 62,
   "metadata": {},
   "outputs": [
    {
     "name": "stdout",
     "output_type": "stream",
     "text": [
      "search: \u001b[0m\u001b[1ms\u001b[22m\u001b[0m\u001b[1mi\u001b[22m\u001b[0m\u001b[1mn\u001b[22m \u001b[0m\u001b[1ms\u001b[22m\u001b[0m\u001b[1mi\u001b[22m\u001b[0m\u001b[1mn\u001b[22mh \u001b[0m\u001b[1ms\u001b[22m\u001b[0m\u001b[1mi\u001b[22m\u001b[0m\u001b[1mn\u001b[22md \u001b[0m\u001b[1ms\u001b[22m\u001b[0m\u001b[1mi\u001b[22m\u001b[0m\u001b[1mn\u001b[22mc \u001b[0m\u001b[1ms\u001b[22m\u001b[0m\u001b[1mi\u001b[22m\u001b[0m\u001b[1mn\u001b[22mpi \u001b[0m\u001b[1ms\u001b[22m\u001b[0m\u001b[1mi\u001b[22m\u001b[0m\u001b[1mn\u001b[22mcos \u001b[0m\u001b[1ms\u001b[22m\u001b[0m\u001b[1mi\u001b[22m\u001b[0m\u001b[1mn\u001b[22mcosd a\u001b[0m\u001b[1ms\u001b[22m\u001b[0m\u001b[1mi\u001b[22m\u001b[0m\u001b[1mn\u001b[22m u\u001b[0m\u001b[1ms\u001b[22m\u001b[0m\u001b[1mi\u001b[22m\u001b[0m\u001b[1mn\u001b[22mg i\u001b[0m\u001b[1ms\u001b[22m\u001b[0m\u001b[1mi\u001b[22m\u001b[0m\u001b[1mn\u001b[22mf a\u001b[0m\u001b[1ms\u001b[22m\u001b[0m\u001b[1mi\u001b[22m\u001b[0m\u001b[1mn\u001b[22mh a\u001b[0m\u001b[1ms\u001b[22m\u001b[0m\u001b[1mi\u001b[22m\u001b[0m\u001b[1mn\u001b[22md\n",
      "\n"
     ]
    },
    {
     "data": {
      "text/latex": [
       "\\begin{verbatim}\n",
       "sin(x)\n",
       "\\end{verbatim}\n",
       "Compute sine of \\texttt{x}, where \\texttt{x} is in radians.\n",
       "\n",
       "\\rule{\\textwidth}{1pt}\n",
       "\\begin{verbatim}\n",
       "sin(A::AbstractMatrix)\n",
       "\\end{verbatim}\n",
       "Compute the matrix sine of a square matrix \\texttt{A}.\n",
       "\n",
       "If \\texttt{A} is symmetric or Hermitian, its eigendecomposition (\\href{@ref}{\\texttt{eigen}}) is used to compute the sine. Otherwise, the sine is determined by calling \\href{@ref}{\\texttt{exp}}.\n",
       "\n",
       "\\section{Examples}\n",
       "\\begin{verbatim}\n",
       "julia> sin(fill(1.0, (2,2)))\n",
       "2×2 Array{Float64,2}:\n",
       " 0.454649  0.454649\n",
       " 0.454649  0.454649\n",
       "\\end{verbatim}\n"
      ],
      "text/markdown": [
       "```\n",
       "sin(x)\n",
       "```\n",
       "\n",
       "Compute sine of `x`, where `x` is in radians.\n",
       "\n",
       "---\n",
       "\n",
       "```\n",
       "sin(A::AbstractMatrix)\n",
       "```\n",
       "\n",
       "Compute the matrix sine of a square matrix `A`.\n",
       "\n",
       "If `A` is symmetric or Hermitian, its eigendecomposition ([`eigen`](@ref)) is used to compute the sine. Otherwise, the sine is determined by calling [`exp`](@ref).\n",
       "\n",
       "# Examples\n",
       "\n",
       "```jldoctest\n",
       "julia> sin(fill(1.0, (2,2)))\n",
       "2×2 Array{Float64,2}:\n",
       " 0.454649  0.454649\n",
       " 0.454649  0.454649\n",
       "```\n"
      ],
      "text/plain": [
       "  \u001b[38;2;102;217;239msin\u001b[0m(\u001b[0m\u001b[39mx\u001b[0m\u001b[39m)\u001b[0m\u001b[39m\u001b[0m\n",
       "\n",
       "\n",
       "  Compute sine of \u001b[36mx\u001b[39m, where \u001b[36mx\u001b[39m is in radians.\n",
       "\n",
       "  ────────────────────────────────────────────────────────────────────────────\n",
       "\n",
       "  \u001b[38;2;102;217;239msin\u001b[0m(\u001b[0m\u001b[39mA\u001b[0m\u001b[38;2;102;217;239m::\u001b[0m\u001b[38;2;102;217;239mAbstractMatrix\u001b[0m\u001b[39m)\u001b[0m\u001b[39m\u001b[0m\n",
       "\n",
       "\n",
       "  Compute the matrix sine of a square matrix \u001b[36mA\u001b[39m.\n",
       "\n",
       "  If \u001b[36mA\u001b[39m is symmetric or Hermitian, its eigendecomposition (\u001b[36meigen\u001b[39m) is used to\n",
       "  compute the sine. Otherwise, the sine is determined by calling \u001b[36mexp\u001b[39m.\n",
       "\n",
       "\u001b[1m  Examples\u001b[22m\n",
       "\u001b[1m  ≡≡≡≡≡≡≡≡≡≡\u001b[22m\n",
       "\n",
       "  \u001b[31;1mjulia> \u001b[0m\u001b[38;2;102;217;239msin\u001b[0m(\u001b[0m\u001b[38;2;102;217;239mfill\u001b[0m(\u001b[0m\u001b[38;2;174;129;255m1.0\u001b[0m\u001b[39m,\u001b[0m \u001b[0m(\u001b[0m\u001b[38;2;174;129;255m2\u001b[0m\u001b[39m,\u001b[0m\u001b[38;2;174;129;255m2\u001b[0m\u001b[39m)\u001b[0m\u001b[39m)\u001b[0m\u001b[39m)\u001b[0m\n",
       "  \u001b[0m\u001b[39m\u001b[0m2×2 Array{Float64,2}:\n",
       "   0.454649  0.454649\n",
       "   0.454649  0.454649\n"
      ]
     },
     "execution_count": 62,
     "metadata": {},
     "output_type": "execute_result"
    }
   ],
   "source": [
    "?sin"
   ]
  },
  {
   "cell_type": "code",
   "execution_count": null,
   "metadata": {},
   "outputs": [],
   "source": [
    "POINT rotate_point(float cx,float cy,float angle,POINT p)\n",
    "{\n",
    "  float s = sin(angle);\n",
    "  float c = cos(angle);\n",
    "\n",
    "  // translate point back to origin:\n",
    "  p.x -= cx;\n",
    "  p.y -= cy;\n",
    "\n",
    "  // rotate point\n",
    "  float xnew = p.x * c - p.y * s;\n",
    "  float ynew = p.x * s + p.y * c;\n",
    "\n",
    "  // translate point back:\n",
    "  p.x = xnew + cx;\n",
    "  p.y = ynew + cy;\n",
    "  return p;\n",
    "}"
   ]
  },
  {
   "cell_type": "code",
   "execution_count": 58,
   "metadata": {},
   "outputs": [
    {
     "data": {
      "text/plain": [
       "5-element Array{Tuple{ShipDirection{_A} where _A,Int64},1}:\n",
       " (ShipDirection{:F}(), 10)\n",
       " (ShipDirection{:N}(), 3)\n",
       " (ShipDirection{:F}(), 7)\n",
       " (ShipDirection{:R}(), 90)\n",
       " (ShipDirection{:F}(), 11)"
      ]
     },
     "execution_count": 58,
     "metadata": {},
     "output_type": "execute_result"
    }
   ],
   "source": [
    "shipState = ShipState(ShipDirection(:E), 0, 0);\n",
    "waypointState = WaypointState(10, 1);\n",
    "instr = get_instructions(\"input/day12-test.txt\");\n",
    "instr"
   ]
  },
  {
   "cell_type": "code",
   "execution_count": 59,
   "metadata": {},
   "outputs": [
    {
     "name": "stdout",
     "output_type": "stream",
     "text": [
      "(s, w) = (ShipState(ShipDirection{:E}(), 0, 0), WaypointState(10, 1))\n",
      "(s, w) = (ShipState(ShipDirection{:E}(), 100, 10), WaypointState(10, 1))\n",
      "(s, w) = (ShipState(ShipDirection{:E}(), 170, 17), WaypointState(10, 1))\n"
     ]
    }
   ],
   "source": [
    "for (direction, val) in instr\n",
    "     update!(shipState, waypointState, direction, val)\n",
    "end"
   ]
  },
  {
   "cell_type": "code",
   "execution_count": 60,
   "metadata": {},
   "outputs": [
    {
     "data": {
      "text/plain": [
       "ShipState(ShipDirection{:E}(), 280, 28)"
      ]
     },
     "execution_count": 60,
     "metadata": {},
     "output_type": "execute_result"
    }
   ],
   "source": [
    "shipState"
   ]
  },
  {
   "cell_type": "code",
   "execution_count": 31,
   "metadata": {},
   "outputs": [
    {
     "data": {
      "text/plain": [
       "28"
      ]
     },
     "execution_count": 31,
     "metadata": {},
     "output_type": "execute_result"
    }
   ],
   "source": [
    "abs(shipState.x) + abs(shipState.y)"
   ]
  },
  {
   "cell_type": "code",
   "execution_count": null,
   "metadata": {},
   "outputs": [],
   "source": []
  }
 ],
 "metadata": {
  "kernelspec": {
   "display_name": "Julia 1.5.3",
   "language": "julia",
   "name": "julia-1.5"
  },
  "language_info": {
   "file_extension": ".jl",
   "mimetype": "application/julia",
   "name": "julia",
   "version": "1.5.3"
  }
 },
 "nbformat": 4,
 "nbformat_minor": 4
}
